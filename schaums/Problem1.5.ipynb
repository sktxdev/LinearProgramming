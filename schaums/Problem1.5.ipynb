{
 "cells": [
  {
   "cell_type": "code",
   "execution_count": 1,
   "metadata": {},
   "outputs": [],
   "source": [
    "##############################################################################\n",
    "# Universal Mines Inc. operates three mines in West Virginia. The ore from \n",
    "# each mine is separated into two grades before it is shipped; \n",
    "# the daily production capacities of the mines, as well as their \n",
    "# daily operating costs, are as follows: \n",
    "# \n",
    "#           High-Grade  Low Grade   Operating Cost\n",
    "#           tons/day    tons/day    $1000/day\n",
    "#   Mine 1      4           4           20\n",
    "#   Mine 2      6           4           20\n",
    "#   Mine 3      1           6           18\n",
    "# \n",
    "# Universal has committed itself to deliver 54 tons of high-grade ore \n",
    "# and 65 tons of low-grade ore by the end of the week. It also has \n",
    "# labor contracts that guarantee employees in each mine a full day’s \n",
    "# pay for each day or fraction of a day the mine is open. \n",
    "##############################################################################\n"
   ]
  },
  {
   "cell_type": "code",
   "execution_count": 2,
   "metadata": {},
   "outputs": [],
   "source": [
    "##############################################################################\n",
    "# PROBLEM\n",
    "# Determine the number of days each mine should be operated during the \n",
    "# upcoming week if Universal Mines is to fulfill its commitment at \n",
    "# minimum total cost.\n",
    "##############################################################################\n"
   ]
  },
  {
   "cell_type": "code",
   "execution_count": 3,
   "metadata": {},
   "outputs": [],
   "source": [
    "##############################################################################\n",
    "# SOLUTION\n",
    "# Let x1, x2 and x3, respectively, denote the numbers of days that \n",
    "# mines 1, II, and III will be operated during the upcoming week. \n",
    "# \n",
    "# Then the objective (measured in units of $ 1000) is:\n",
    "#   Minimize:\n",
    "#       z = 20 * x1 + 22 * x2 + 18 * x3\n",
    "# \n",
    "# The high-grade ore requirement is:    \n",
    "#       4 * x1 + 6 * x2 + x3 >= 54\n",
    "# The low-grade ore requirement is:     \n",
    "#       4 * x1 + 4 * x2 + 6 * x3 >= 65\n",
    "# \n",
    "# As no mine may operate a negative number of days, three hidden \n",
    "# constraints are:\n",
    "#       x1 >= 0, x2 >= 0 and x3 >=0\n",
    "# \n",
    "# Moreover, as no mine may operate more than 7 days in a week, \n",
    "# three other hidden constraints are:\n",
    "#       x1 <= 7, x2 <= 7, and x3 <= 7\n",
    "#  \n",
    "# Finally, in view of the labor contracts, Universal Mines \n",
    "# has nothing to gain in operating a mine for part of a day; \n",
    "# consequently, x1, x2, and x3 are required to be integral. \n",
    "# Combining conditions with (1), (2), and (3), \n",
    "# we obtain the mathematical program System (4) is an \n",
    "# integer program\n",
    "##############################################################################"
   ]
  },
  {
   "cell_type": "code",
   "execution_count": 4,
   "metadata": {},
   "outputs": [
    {
     "name": "stdout",
     "output_type": "stream",
     "text": [
      "Model Status: Optimal\n",
      "Objective =  284\n",
      "x1 = 2\n",
      "x2 = 7\n",
      "x3 = 5\n"
     ]
    },
    {
     "name": "stderr",
     "output_type": "stream",
     "text": [
      "/Users/skhandwala/opt/anaconda3/lib/python3.8/site-packages/pulp/pulp.py:1316: UserWarning: Spaces are not permitted in the name. Converted to '_'\n",
      "  warnings.warn(\"Spaces are not permitted in the name. Converted to '_'\")\n"
     ]
    }
   ],
   "source": [
    "# IMPORT THE NEEDED PACKAGES\n",
    "import pulp as plp\n",
    "\n",
    "# INITIALIZE A LINEAR MAXIMIZATION PROGRAM\n",
    "model = plp.LpProblem(\"Minimize Operating Costs\", plp.LpMinimize)\n",
    "\n",
    "# DEFINE DECISION VARIABLES\n",
    "x1 = plp.LpVariable('x1', lowBound=0, cat='Integer')\n",
    "x2 = plp.LpVariable('x2', lowBound=0, cat='Integer')\n",
    "x3 = plp.LpVariable('x3', lowBound=0, cat='Integer')\n",
    "\n",
    "# DEFINE OBJECTIVE FUNCTION WE WANT TO MINIMIZE\n",
    "model += 20*x1 + 22*x2 + 18*x3\n",
    "\n",
    "# CONSTRAINT 1: High Grade Production\n",
    "model += 4*x1 + 6*x2 + x3 >= 54\n",
    "\n",
    "# CONSTRAINT 2: Low Grade Production\n",
    "model += 4*x1 + 4*x2 + 6*x3 >= 65\n",
    "   \n",
    "# CONSTRAINT 3,4 and 5: Time\n",
    "model += x1 <= 7\n",
    "model += x2 <= 7\n",
    "model += x3 <= 7\n",
    "\n",
    "# SOLVE THE OPTIMIZATION PROBLEM (SIMPLEX ALGORITHM)\n",
    "model.solve()\n",
    "print(\"Model Status: {}\".format(plp.LpStatus[model.status]))\n",
    "\n",
    "# DISPLAY THE OBJECTIVE FUNCTION VALUE AND OPTIMIZED DECISION VARIABLES\n",
    "print(\"Objective = \", plp.value(model.objective))\n",
    "for v in model.variables():\n",
    "    print(v.name, \"=\", v.varValue)"
   ]
  },
  {
   "cell_type": "code",
   "execution_count": null,
   "metadata": {},
   "outputs": [],
   "source": []
  }
 ],
 "metadata": {
  "kernelspec": {
   "display_name": "Python 3",
   "language": "python",
   "name": "python3"
  },
  "language_info": {
   "codemirror_mode": {
    "name": "ipython",
    "version": 3
   },
   "file_extension": ".py",
   "mimetype": "text/x-python",
   "name": "python",
   "nbconvert_exporter": "python",
   "pygments_lexer": "ipython3",
   "version": "3.8.5"
  }
 },
 "nbformat": 4,
 "nbformat_minor": 2
}
