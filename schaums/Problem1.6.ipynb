{
 "cells": [
  {
   "cell_type": "markdown",
   "metadata": {},
   "source": [
    "##### Problem 1.6\n",
    " A manufacturer is beginning the last week of production of four different \n",
    " models of wooden television consoles, labeled I, II, III, and IV, each of \n",
    " which must be assembled and then decorated. <p>\n",
    " \n",
    " The models require 4, 5, 3, and 5 h, respectively, for assembling and 2, 1.5, 3, and 3 h, respectively, \n",
    " for decorating. <p>\n",
    " \n",
    " The profits on the models are $ 7, $ 7, $ 6, and $ 9, respectively. <p>\n",
    "     \n",
    " The manufacturer has:<br>\n",
    "     <li>30,000 hours available for assembling these products (750 assemblers working 40 h/ wk) and \n",
    "     <li>20,000 hours available for decorating (500 decorators working 40 h/ wk). \n",
    "<p>\n",
    "How many of each model should the manufacturer produce during this \n",
    "last week to maximize profit? Assume that all units made can be sold.\n",
    "\n",
    "\n",
    "Let:<br>\n",
    "x<sub>1</sub> = number of model 1 to be produced during the week<br>\n",
    "x<sub>2</sub> = number of model 2 to be produced during the week<br>\n",
    "x<sub>3</sub> = number of model 3 to be produced during the week<br>\n",
    "x<sub>4</sub> = number of model 4 to be produced during the week<br>\n",
    "\n",
    "Maximize: <br>\n",
    "\n",
    "z = 7*x<sub>1</sub> + 7*x<sub>2</sub> + 7*x<sub>3</sub> + 7*x<sub>4</sub><br>\n",
    "\n",
    "Subject to:<br>\n",
    "\n",
    "4*x<sub>1</sub> + 5*x<sub>2</sub> + 3*x<sub>3</sub> + 5*x<sub>4</sub> <= 30000 (assembly time) and<br>\n",
    "2*x<sub>1</sub> + 1.5*x<sub>2</sub> + 3*x<sub>3</sub> + 3*x<sub>4</sub> <= 20000 (decorating time)<br>\n",
    "<br>\n",
    "All variables are non negative and integral<br>"
   ]
  },
  {
   "cell_type": "code",
   "execution_count": 8,
   "metadata": {},
   "outputs": [
    {
     "name": "stdout",
     "output_type": "stream",
     "text": [
      "Model Status: Optimal\n",
      "Objective =  58331\n",
      "x1 = 5000\n",
      "x2 = 0\n",
      "x3 = 3333\n",
      "x4 = 0\n"
     ]
    }
   ],
   "source": [
    "# SOLUTION\n",
    "# IMPORT THE NEEDED PACKAGES\n",
    "import pulp as plp\n",
    "\n",
    "# INITIALIZE A LINEAR MAXIMIZATION PROGRAM\n",
    "model = plp.LpProblem(\"Maximize Profit\", plp.LpMaximize)\n",
    "\n",
    "# DEFINE DECISION VARIABLES\n",
    "x1 = plp.LpVariable('x1', lowBound=0, cat='Integer')\n",
    "x2 = plp.LpVariable('x2', lowBound=0, cat='Integer')\n",
    "x3 = plp.LpVariable('x3', lowBound=0, cat='Integer')\n",
    "x4 = plp.LpVariable('x4', lowBound=0, cat='Integer')\n",
    "\n",
    "# DEFINE OBJECTIVE FUNCTION WE WANT TO MINIMIZE\n",
    "model += 7*x1 + 7*x2 + 7*x3 + 7*x4\n",
    "\n",
    "# CONSTRAINT 1: Wood\n",
    "model += 4*x1 + 5*x2 + 3*x3 + 5*x4 <= 30000\n",
    "\n",
    "# CONSTRAINT 2: Time\n",
    "model += 2*x1 + 1.5*x2 + 3*x3 + 3*x4 <= 20000\n",
    "\n",
    "# SOLVE THE OPTIMIZATION PROBLEM (SIMPLEX ALGORITHM)\n",
    "model.solve()\n",
    "print(\"Model Status: {}\".format(plp.LpStatus[model.status]))\n",
    "\n",
    "# DISPLAY THE OBJECTIVE FUNCTION VALUE AND OPTIMIZED DECISION VARIABLES\n",
    "print(\"Objective = \", plp.value(model.objective))\n",
    "for v in model.variables():\n",
    "    print(v.name, \"=\", v.varValue)"
   ]
  },
  {
   "cell_type": "code",
   "execution_count": null,
   "metadata": {},
   "outputs": [],
   "source": []
  }
 ],
 "metadata": {
  "kernelspec": {
   "display_name": "Python 3",
   "language": "python",
   "name": "python3"
  },
  "language_info": {
   "codemirror_mode": {
    "name": "ipython",
    "version": 3
   },
   "file_extension": ".py",
   "mimetype": "text/x-python",
   "name": "python",
   "nbconvert_exporter": "python",
   "pygments_lexer": "ipython3",
   "version": "3.8.5"
  }
 },
 "nbformat": 4,
 "nbformat_minor": 2
}
