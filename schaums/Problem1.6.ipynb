{
 "cells": [
  {
   "cell_type": "code",
   "execution_count": 1,
   "metadata": {},
   "outputs": [],
   "source": [
    "###################################################################################\n",
    "# A manufacturer is beginning the last week of production of four different \n",
    "# models of wooden television consoles, labeled I, II, III, and IV, each of \n",
    "# which must be assembled and then decorated. The models require 4, 5, 3, \n",
    "# and 5 h, respectively, for assembling and 2, 1.5, 3, and 3 h, respectively, \n",
    "# for decorating. \n",
    "# \n",
    "# The profits on the models are $ 7, $ 7, $ 6, and $ 9, respectively. \n",
    "# The manufacturer has 30,000 h available for assembling these products \n",
    "# (750 assemblers working 40 h/ wk) and \n",
    "# 20000 h available for decorating \n",
    "# (500 decorators working 40 h/ wk). \n",
    "#\n",
    "###################################################################################"
   ]
  },
  {
   "cell_type": "code",
   "execution_count": 2,
   "metadata": {},
   "outputs": [],
   "source": [
    "###################################################################################\n",
    "# How many of each model should the manufacturer produce during this \n",
    "# last week to maximize profit? Assume that all units made can be sold.\n",
    "###################################################################################"
   ]
  },
  {
   "cell_type": "code",
   "execution_count": 4,
   "metadata": {},
   "outputs": [],
   "source": [
    "# x1 = number of model 1 to be produced during the week\n",
    "# x2 = number of model 2 to be produced during the week\n",
    "# x3 = number of model 3 to be produced during the week\n",
    "# x4 = number of model 4 to be produced during the week\n",
    "\n",
    "# maximize: \n",
    "#\n",
    "#       z = 7*x1 + 7*x2 + 7*x3 + 7*x4\n",
    "#\n",
    "# subject to:\n",
    "#\n",
    "#       4*x1 + 5*x2 + 3*x3 + 5*x4 <= 30000                (assembly time)\n",
    "# and\n",
    "#       2*x1 + 1.5*x2 + 3*x3 + 3*x4 <= 20000             (decorating time)\n",
    "#\n",
    "# and all variables are non negative and integral"
   ]
  },
  {
   "cell_type": "code",
   "execution_count": 6,
   "metadata": {},
   "outputs": [
    {
     "name": "stdout",
     "output_type": "stream",
     "text": [
      "Model Status: Optimal\n",
      "Objective =  58331\n",
      "x1 = 5000\n",
      "x2 = 0\n",
      "x3 = 3333\n",
      "x4 = 0\n"
     ]
    }
   ],
   "source": [
    "# SOLUTION\n",
    "# IMPORT THE NEEDED PACKAGES\n",
    "import pulp as plp\n",
    "\n",
    "# INITIALIZE A LINEAR MAXIMIZATION PROGRAM\n",
    "model = plp.LpProblem(\"Maximize Profit\", plp.LpMaximize)\n",
    "\n",
    "# DEFINE DECISION VARIABLES\n",
    "x1 = plp.LpVariable('x1', lowBound=0, cat='Integer')\n",
    "x2 = plp.LpVariable('x2', lowBound=0, cat='Integer')\n",
    "x3 = plp.LpVariable('x3', lowBound=0, cat='Integer')\n",
    "x4 = plp.LpVariable('x4', lowBound=0, cat='Integer')\n",
    "\n",
    "# DEFINE OBJECTIVE FUNCTION WE WANT TO MINIMIZE\n",
    "model += 7*x1 + 7*x2 + 7*x3 + 7*x4\n",
    "\n",
    "# CONSTRAINT 1: Wood\n",
    "model += 4*x1 + 5*x2 + 3*x3 + 5*x4 <= 30000\n",
    "\n",
    "# CONSTRAINT 2: Time\n",
    "model += 2*x1 + 1.5*x2 + 3*x3 + 3*x4 <= 20000\n",
    "\n",
    "# SOLVE THE OPTIMIZATION PROBLEM (SIMPLEX ALGORITHM)\n",
    "model.solve()\n",
    "print(\"Model Status: {}\".format(plp.LpStatus[model.status]))\n",
    "\n",
    "# DISPLAY THE OBJECTIVE FUNCTION VALUE AND OPTIMIZED DECISION VARIABLES\n",
    "print(\"Objective = \", plp.value(model.objective))\n",
    "for v in model.variables():\n",
    "    print(v.name, \"=\", v.varValue)"
   ]
  },
  {
   "cell_type": "code",
   "execution_count": null,
   "metadata": {},
   "outputs": [],
   "source": []
  }
 ],
 "metadata": {
  "kernelspec": {
   "display_name": "Python 3",
   "language": "python",
   "name": "python3"
  },
  "language_info": {
   "codemirror_mode": {
    "name": "ipython",
    "version": 3
   },
   "file_extension": ".py",
   "mimetype": "text/x-python",
   "name": "python",
   "nbconvert_exporter": "python",
   "pygments_lexer": "ipython3",
   "version": "3.7.4"
  }
 },
 "nbformat": 4,
 "nbformat_minor": 2
}
