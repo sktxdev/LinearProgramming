{
 "cells": [
  {
   "cell_type": "code",
   "execution_count": 4,
   "metadata": {},
   "outputs": [],
   "source": [
    "###################################################################################\n",
    "# A furniture maker has 6 units of wood and 28 h of free time, in which \n",
    "# he will make decorative screens. Two models have sold well in the past, \n",
    "# so he will restrict himself to those two. He estimates that \n",
    "# model I requires 2 units of wood and 7 h of time, while \n",
    "# model II requires 1 unit of wood and 8 h of time. \n",
    "# \n",
    "# The prices of the models are $ 120 and $ 80, respectively. \n",
    "# How many screens of each model should the furniture maker \n",
    "# assemble if he wishes to maximize his sales revenue? \n",
    "# The objective is to maximize revenue (in dollars), which we \n",
    "# denote as z: times the number of model I screens produced \n",
    "# plus 80 times the number of model II screens produced Letting \n",
    "# number of model I screens to be produced number of model II \n",
    "# screens to be produced we express the objective as\n",
    "#\n",
    "# Problem:\n",
    "# x1 = number of model 1 screens\n",
    "# x2 = number of model 2 screens\n",
    "# Maximize revenue z in $ such that:\n",
    "#\n",
    "# z = 120 * x1 + 80 * x2\n",
    "#\n",
    "# Given:\n",
    "# 2 * x1 + x2 <= 6          -- Units of wood\n",
    "# 7 * x1 + 8 * x2 <= 28     -- Hours\n",
    "# \n",
    "# All vars > 0\n",
    "#\n",
    "###################################################################################"
   ]
  },
  {
   "cell_type": "code",
   "execution_count": 5,
   "metadata": {},
   "outputs": [
    {
     "name": "stdout",
     "output_type": "stream",
     "text": [
      "Model Status: Optimal\n",
      "Objective =  360\n",
      "Model1 = 3\n",
      "Model2 = 0\n"
     ]
    }
   ],
   "source": [
    "# SOLUTION\n",
    "# IMPORT THE NEEDED PACKAGES\n",
    "import pulp as plp\n",
    "\n",
    "# INITIALIZE A LINEAR MAXIMIZATION PROGRAM\n",
    "model = plp.LpProblem(\"Maximize Revenue\", plp.LpMaximize)\n",
    "\n",
    "# DEFINE DECISION VARIABLES\n",
    "Model1 = plp.LpVariable('Model1', lowBound=0, cat='Integer')\n",
    "Model2 = plp.LpVariable('Model2', lowBound=0, cat='Integer')\n",
    "\n",
    "# DEFINE OBJECTIVE FUNCTION WE WANT TO MINIMIZE\n",
    "model += 120*Model1 + 80*Model2\n",
    "\n",
    "# CONSTRAINT 1: Wood\n",
    "model += 2*Model1 + Model2 <= 6\n",
    "\n",
    "# CONSTRAINT 2: Time\n",
    "model += 7*Model1 + 8*Model2 <= 28\n",
    "\n",
    "# SOLVE THE OPTIMIZATION PROBLEM (SIMPLEX ALGORITHM)\n",
    "model.solve()\n",
    "print(\"Model Status: {}\".format(plp.LpStatus[model.status]))\n",
    "\n",
    "# DISPLAY THE OBJECTIVE FUNCTION VALUE AND OPTIMIZED DECISION VARIABLES\n",
    "print(\"Objective = \", plp.value(model.objective))\n",
    "for v in model.variables():\n",
    "    print(v.name, \"=\", v.varValue)"
   ]
  },
  {
   "cell_type": "code",
   "execution_count": null,
   "metadata": {},
   "outputs": [],
   "source": []
  }
 ],
 "metadata": {
  "kernelspec": {
   "display_name": "Python 3",
   "language": "python",
   "name": "python3"
  },
  "language_info": {
   "codemirror_mode": {
    "name": "ipython",
    "version": 3
   },
   "file_extension": ".py",
   "mimetype": "text/x-python",
   "name": "python",
   "nbconvert_exporter": "python",
   "pygments_lexer": "ipython3",
   "version": "3.7.4"
  }
 },
 "nbformat": 4,
 "nbformat_minor": 2
}
