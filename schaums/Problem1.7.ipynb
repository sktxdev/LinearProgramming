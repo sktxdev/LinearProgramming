{
 "cells": [
  {
   "cell_type": "markdown",
   "id": "53dc45ae",
   "metadata": {},
   "source": [
    "The Aztec Refining Company produces 2 types of unleaded gasolene, regular and \n",
    "premium, which it sells to its chain of service stations for $12 and $14 per \n",
    "barrel. Both types are blended from Aztec's inventory of refined domestic \n",
    "oil and refined foreign oil and must meet the following specs.\n",
    "\n",
    "||Max Vapor Pressure| Min Octane Rating|Max Demand bbl/week|Min Deliveries bbl/week|\n",
    "|----|----|----|----|----|\n",
    "|Regular|23|88|100,000|50,000|\n",
    "|Premium|23|93|20,000|5,000|\n",
    "\n",
    "The characteristics of the refined oils in inventory are as follows:\n",
    "\n",
    "||Vapor Pressure| Octane Rating|Inventory bbl|Cost $/bbl|\n",
    "|----|----|----|----|----|\n",
    "|Domestic|25|87|40,000|8|\n",
    "|Foreign|15|98|60,000|15,000|\n",
    "\n",
    "What quantities of the two oils should Aztec blend into the two gasolines in order to maximize\n",
    "weekly profit?\n"
   ]
  },
  {
   "cell_type": "code",
   "execution_count": 2,
   "id": "bf871e8d",
   "metadata": {},
   "outputs": [],
   "source": [
    "# x1 = barrels of domestic blended into regular\n",
    "# x2 = barrels of foreign blended into regular\n",
    "# x3 = barrels of domestic blended into premium\n",
    "# x4 = barrels of foreign blended into premium\n",
    "#\n",
    "# maximize: \n",
    "#\n",
    "#       z = 12 * (x1 + x2) + 14 * (x3 + x4) - 8 * (x1 + x3) - 15 * (x2 + x4)\n",
    "#         = 12x1 + 12x2 + 14x3 + 14x4 - 8x1 - 8x3 - 15x2 - 15x4\n",
    "#         = 4x1 - 3x2 + 6x3 - x4\n",
    "#\n",
    "# The limitations are:\n",
    "#\n",
    "#    demands:\n",
    "#      x1 + x2 <= 100000 (max demand for regular)\n",
    "#      x3 + x4 <= 20000  (max demand for premium)\n",
    "#      x1 + x2 >= 50000 (minimum regular required)\n",
    "#      x3 + x4 >= 5000\n",
    "#\n",
    "#    availability\n",
    "#      x1 + x3 <= 40000 (domestic)\n",
    "#      x2 + x4 <= 60000\n",
    "#\n",
    "#    Octane rating\n",
    "#\n"
   ]
  },
  {
   "cell_type": "code",
   "execution_count": 7,
   "id": "37799543",
   "metadata": {},
   "outputs": [
    {
     "ename": "SyntaxError",
     "evalue": "invalid syntax (<ipython-input-7-b88b78455e8c>, line 1)",
     "output_type": "error",
     "traceback": [
      "\u001b[0;36m  File \u001b[0;32m\"<ipython-input-7-b88b78455e8c>\"\u001b[0;36m, line \u001b[0;32m1\u001b[0m\n\u001b[0;31m    $z = 12 * (x1 + x2) + 14 * (x3 + x4) - 8 * (x1 + x3) - 15 * (x2 + x4)$\u001b[0m\n\u001b[0m    ^\u001b[0m\n\u001b[0;31mSyntaxError\u001b[0m\u001b[0;31m:\u001b[0m invalid syntax\n"
     ]
    }
   ],
   "source": [
    " $z = 12 * (x1 + x2) + 14 * (x3 + x4) - 8 * (x1 + x3) - 15 * (x2 + x4)$\n",
    " $= 12x1 + 12x2 + 14x3 + 14x4 - 8x1 - 8x3 - 15x2 - 15x4$<br>\n",
    " $= 4x1 - 3x2 + 6x3 - x4$"
   ]
  },
  {
   "cell_type": "code",
   "execution_count": null,
   "id": "2a3904ba",
   "metadata": {},
   "outputs": [],
   "source": []
  }
 ],
 "metadata": {
  "kernelspec": {
   "display_name": "Python 3",
   "language": "python",
   "name": "python3"
  },
  "language_info": {
   "codemirror_mode": {
    "name": "ipython",
    "version": 3
   },
   "file_extension": ".py",
   "mimetype": "text/x-python",
   "name": "python",
   "nbconvert_exporter": "python",
   "pygments_lexer": "ipython3",
   "version": "3.8.5"
  }
 },
 "nbformat": 4,
 "nbformat_minor": 5
}
