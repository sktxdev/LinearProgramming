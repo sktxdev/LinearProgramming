{
 "cells": [
  {
   "cell_type": "code",
   "execution_count": 1,
   "metadata": {},
   "outputs": [],
   "source": [
    "###################################################################################\n",
    "# Solved problems from Schaums OR Solved problems\n",
    "###################################################################################\n",
    "# The Village Butcher Shop traditionally makes its meat loaf from a \n",
    "# combination of lean ground beef and ground pork. \n",
    "#\n",
    "# The ground beef contains 80 percent meat and 20 percent fat, and costs the \n",
    "# shop 80 cents per pound; the ground pork contains 68 percent meat \n",
    "# and 32 percent fat, and costs 60 cents per pound. \n",
    "#\n",
    "# How much of each kind of meat should the shop use in each pound of meat loaf if \n",
    "# it wants to minimize its cost and to keep the fat content of the meat loaf to no \n",
    "# more than 25 percent?\n",
    "###################################################################################"
   ]
  },
  {
   "cell_type": "code",
   "execution_count": 2,
   "metadata": {},
   "outputs": [],
   "source": [
    "###################################################################################\n",
    "# Objective\n",
    "# Minimize the cost in cents z of a pound of of meatloaf where\n",
    "# z = 80 times the poundage of ground plus 60 times the poundage of ground pork used\n",
    "\n",
    "# x1 = poundage of ground beef used in each pound of meat loaf\n",
    "# x2 = poundage of ground pork used in each pound of meat loaf\n",
    "\n",
    "# each pound of meat loaf will contain:\n",
    "# 0.20x1 pounds of fat from beef\n",
    "# 0.80x1 pounds of meat from beef\n",
    "# 0.32x2 pounds of fat from pork\n",
    "# 0.68x2 pounds of meat from pork\n",
    "#\n",
    "# This yields the following equations:\n",
    "#\n",
    "# minimize z = 80x1 + 60x2\n",
    "# subject to\n",
    "# a). x1 + x2 = 100 # 1lb of meatloaf is x1 + x2 pounds of beef and pork\n",
    "# b). 0.2x1 + 0.32x2 <= .25 # Keep fat content to 0.25% or less\n",
    "#\n",
    "###################################################################################\n"
   ]
  },
  {
   "cell_type": "code",
   "execution_count": 3,
   "metadata": {},
   "outputs": [
    {
     "name": "stdout",
     "output_type": "stream",
     "text": [
      "Model Status: Optimal\n",
      "Objective =  0.7166666\n",
      "Beef = 0.583333\n",
      "Pork = 0.416667\n"
     ]
    }
   ],
   "source": [
    "# SOLUTION\n",
    "# IMPORT THE NEEDED PACKAGES\n",
    "import pulp as plp\n",
    "\n",
    "# INITIALIZE A LINEAR MAXIMIZATION PROGRAM\n",
    "model = plp.LpProblem(\"MinimizeFat\", plp.LpMinimize)\n",
    "\n",
    "# DEFINE DECISION VARIABLES\n",
    "Beef = plp.LpVariable('Beef', lowBound=0, cat='Continuous')\n",
    "Pork = plp.LpVariable('Pork', lowBound=0, cat='Continuous')\n",
    "\n",
    "# DEFINE OBJECTIVE FUNCTION WE WANT TO MINIMIZE\n",
    "model += 0.80*Beef + 0.60*Pork\n",
    "\n",
    "# CONSTRAINT 1: Fat Content\n",
    "model += 0.20*Beef + 0.32*Pork <= 0.25\n",
    "model += Beef + Pork == 1\n",
    "# SOLVE THE OPTIMIZATION PROBLEM (SIMPLEX ALGORITHM)\n",
    "model.solve()\n",
    "print(\"Model Status: {}\".format(plp.LpStatus[model.status]))\n",
    "\n",
    "# DISPLAY THE OBJECTIVE FUNCTION VALUE AND OPTIMIZED DECISION VARIABLES\n",
    "print(\"Objective = \", plp.value(model.objective))\n",
    "for v in model.variables():\n",
    "    print(v.name, \"=\", v.varValue)"
   ]
  },
  {
   "cell_type": "code",
   "execution_count": null,
   "metadata": {},
   "outputs": [],
   "source": []
  }
 ],
 "metadata": {
  "kernelspec": {
   "display_name": "Python 3",
   "language": "python",
   "name": "python3"
  },
  "language_info": {
   "codemirror_mode": {
    "name": "ipython",
    "version": 3
   },
   "file_extension": ".py",
   "mimetype": "text/x-python",
   "name": "python",
   "nbconvert_exporter": "python",
   "pygments_lexer": "ipython3",
   "version": "3.8.5"
  }
 },
 "nbformat": 4,
 "nbformat_minor": 2
}
